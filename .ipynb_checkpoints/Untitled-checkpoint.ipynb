{
 "cells": [
  {
   "cell_type": "code",
   "execution_count": 6,
   "metadata": {},
   "outputs": [
    {
     "ename": "SyntaxError",
     "evalue": "Missing parentheses in call to 'print'. Did you mean print(print text)? (<ipython-input-6-486bdd18167a>, line 18)",
     "output_type": "error",
     "traceback": [
      "\u001b[0;36m  File \u001b[0;32m\"<ipython-input-6-486bdd18167a>\"\u001b[0;36m, line \u001b[0;32m18\u001b[0m\n\u001b[0;31m    print text\u001b[0m\n\u001b[0m             ^\u001b[0m\n\u001b[0;31mSyntaxError\u001b[0m\u001b[0;31m:\u001b[0m Missing parentheses in call to 'print'. Did you mean print(print text)?\n"
     ]
    }
   ],
   "source": [
    "import scrapy\n",
    "\n",
    "class QuotesSpider(scrapy.Spider):\n",
    "    name=\"quotes\"\n",
    "    allowed_domains=[\"quotes.toscrape.com\"]\n",
    "    start_url=(\"http://quotes.toscrape.com\",)\n",
    "    \n",
    "    def parse(self, response):\n",
    "        quotes=response.xpath('//*[@class=\"quote\"]')\n",
    "        for quote in quotes:\n",
    "                text=quote.xpath('.//*[@class=”text”]/text()').extract_first()\n",
    "                author=quote.xpath('.//*[@itemprop=”author”]/text()').extract_first()\n",
    "                tags= quote.xpath('.//*[@itemprop=”keywords”]/@content').extract_first()\n",
    "            \n",
    "#                 yield{'Text': text\n",
    "#                       'Author': author\n",
    "#                       'Tags': tags }\n",
    "                print (text)\n",
    "        \n",
    "        next_page_url=response.xpath('//*[@class=\"next\"]/a/@href').extract_first()\n",
    "        absolute_next_page_url=response.urljoin(next_page_url)\n",
    "        yield scrapy.Request(absolute_next_page_url)"
   ]
  }
 ],
 "metadata": {
  "kernelspec": {
   "display_name": "Python 3",
   "language": "python",
   "name": "python3"
  },
  "language_info": {
   "codemirror_mode": {
    "name": "ipython",
    "version": 3
   },
   "file_extension": ".py",
   "mimetype": "text/x-python",
   "name": "python",
   "nbconvert_exporter": "python",
   "pygments_lexer": "ipython3",
   "version": "3.6.4"
  }
 },
 "nbformat": 4,
 "nbformat_minor": 2
}
